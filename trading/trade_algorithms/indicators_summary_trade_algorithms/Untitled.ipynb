{
 "cells": [
  {
   "cell_type": "code",
   "execution_count": 10,
   "id": "efc4b668-f617-4cd1-baff-e061d0596510",
   "metadata": {},
   "outputs": [],
   "source": [
    "import yfinance as yf\n",
    "import scipy as sp\n",
    "from scipy.stats import norm\n",
    "import datetime\n",
    "import numpy as np"
   ]
  },
  {
   "cell_type": "code",
   "execution_count": 12,
   "id": "0550cf0f-0337-46b3-b0ef-bd905bb9de53",
   "metadata": {},
   "outputs": [],
   "source": [
    "def var_cov_var(P, c, mu, sigma):\n",
    "    alpha = norm.ppf(1-c, mu, sigma)\n",
    "    print(alpha)\n",
    "    return P - P*(alpha + 1)"
   ]
  },
  {
   "cell_type": "code",
   "execution_count": 13,
   "id": "5307ed35-a05e-4ecd-80f5-680d051f2b87",
   "metadata": {},
   "outputs": [
    {
     "name": "stdout",
     "output_type": "stream",
     "text": [
      "[*********************100%***********************]  1 of 1 completed\n",
      "-0.05648121846770457\n",
      "Value-at-Risk: $56481.22\n"
     ]
    }
   ],
   "source": [
    "start = datetime.datetime(2010, 1, 1)\n",
    "end = datetime.datetime(2014, 1, 1)\n",
    "\n",
    "citi = yf.download(\"C\", start=start, end=end)\n",
    "citi[\"rets\"] = citi[\"Adj Close\"].pct_change()\n",
    "P = 1e6 # 1,000,000 USD\n",
    "c = 0.99 # 99% confidence interval\n",
    "mu = np.mean(citi[\"rets\"])\n",
    "sigma = np.std(citi[\"rets\"])\n",
    "var = var_cov_var(P, c, mu, sigma)\n",
    "print(\"Value-at-Risk: $%0.2f\" % var)"
   ]
  }
 ],
 "metadata": {
  "kernelspec": {
   "display_name": "Python 3 (ipykernel)",
   "language": "python",
   "name": "python3"
  },
  "language_info": {
   "codemirror_mode": {
    "name": "ipython",
    "version": 3
   },
   "file_extension": ".py",
   "mimetype": "text/x-python",
   "name": "python",
   "nbconvert_exporter": "python",
   "pygments_lexer": "ipython3",
   "version": "3.9.12"
  }
 },
 "nbformat": 4,
 "nbformat_minor": 5
}
